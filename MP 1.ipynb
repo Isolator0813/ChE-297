{
 "cells": [
  {
   "cell_type": "markdown",
   "id": "9699376b-d799-4fe2-8602-b6685e6edd3c",
   "metadata": {},
   "source": [
    "# ChE 297 (Intro to AI and Machine Learning)\n",
    "## Machine Problem 1"
   ]
  },
  {
   "cell_type": "markdown",
   "id": "2bfa7711-d905-42df-a6fa-2b648f41cdf9",
   "metadata": {},
   "source": [
    "##### Prepared by: Iliad S. Oleriana\n",
    "##### MS Chemical Engineering"
   ]
  },
  {
   "cell_type": "markdown",
   "id": "f1a1c2a2-80a6-4be9-9817-00f4361946da",
   "metadata": {},
   "source": [
    "## Predicting CO Emission in a Gas Turbine"
   ]
  },
  {
   "cell_type": "markdown",
   "id": "926fc10c-c02b-4982-9c13-caa110217b29",
   "metadata": {},
   "source": [
    "##### Data Set Reference: https://archive.ics.uci.edu/dataset/551/gas+turbine+co+and+nox+emission+data+set"
   ]
  },
  {
   "cell_type": "code",
   "execution_count": 772,
   "id": "30aa44a8-e9b0-4155-9c25-2fe420b3935d",
   "metadata": {},
   "outputs": [],
   "source": [
    "import numpy as np\n",
    "import pandas as pd\n",
    "from sklearn.svm import SVC\n",
    "import matplotlib.pyplot as plt\n",
    "from sklearn.pipeline import make_pipeline\n",
    "from sklearn.model_selection import train_test_split\n",
    "from sklearn.preprocessing import LabelEncoder, StandardScaler\n",
    "from sklearn.metrics import confusion_matrix, ConfusionMatrixDisplay\n",
    "from sklearn.inspection import DecisionBoundaryDisplay"
   ]
  },
  {
   "cell_type": "markdown",
   "id": "40172522-d634-4ba2-a0fc-532cb35e7e92",
   "metadata": {},
   "source": [
    "### 1. Transfering Data, loading in Python and Splitting"
   ]
  },
  {
   "cell_type": "code",
   "execution_count": 773,
   "id": "8e75ff69-de17-44be-9616-c330eb54716a",
   "metadata": {},
   "outputs": [],
   "source": [
    "s1 = pd.read_csv('gt_2011.csv')\n",
    "s2 = pd.read_csv('gt_2012.csv')\n",
    "s3 = pd.read_csv('gt_2013.csv')\n",
    "s4 = pd.read_csv('gt_2014.csv')\n",
    "s5 = pd.read_csv('gt_2015.csv')"
   ]
  },
  {
   "cell_type": "code",
   "execution_count": 774,
   "id": "e8e1542f-6e73-4c8b-b242-dfde98c51378",
   "metadata": {},
   "outputs": [
    {
     "data": {
      "text/html": [
       "<div>\n",
       "<style scoped>\n",
       "    .dataframe tbody tr th:only-of-type {\n",
       "        vertical-align: middle;\n",
       "    }\n",
       "\n",
       "    .dataframe tbody tr th {\n",
       "        vertical-align: top;\n",
       "    }\n",
       "\n",
       "    .dataframe thead th {\n",
       "        text-align: right;\n",
       "    }\n",
       "</style>\n",
       "<table border=\"1\" class=\"dataframe\">\n",
       "  <thead>\n",
       "    <tr style=\"text-align: right;\">\n",
       "      <th></th>\n",
       "      <th>AT</th>\n",
       "      <th>AP</th>\n",
       "      <th>AH</th>\n",
       "      <th>AFDP</th>\n",
       "      <th>GTEP</th>\n",
       "      <th>TIT</th>\n",
       "      <th>TAT</th>\n",
       "      <th>TEY</th>\n",
       "      <th>CDP</th>\n",
       "      <th>CO</th>\n",
       "      <th>NOX</th>\n",
       "    </tr>\n",
       "  </thead>\n",
       "  <tbody>\n",
       "    <tr>\n",
       "      <th>0</th>\n",
       "      <td>4.5878</td>\n",
       "      <td>1018.7</td>\n",
       "      <td>83.675</td>\n",
       "      <td>3.5758</td>\n",
       "      <td>23.979</td>\n",
       "      <td>1086.2</td>\n",
       "      <td>549.83</td>\n",
       "      <td>134.67</td>\n",
       "      <td>11.898</td>\n",
       "      <td>0.32663</td>\n",
       "      <td>81.952</td>\n",
       "    </tr>\n",
       "    <tr>\n",
       "      <th>1</th>\n",
       "      <td>4.2932</td>\n",
       "      <td>1018.3</td>\n",
       "      <td>84.235</td>\n",
       "      <td>3.5709</td>\n",
       "      <td>23.951</td>\n",
       "      <td>1086.1</td>\n",
       "      <td>550.05</td>\n",
       "      <td>134.67</td>\n",
       "      <td>11.892</td>\n",
       "      <td>0.44784</td>\n",
       "      <td>82.377</td>\n",
       "    </tr>\n",
       "    <tr>\n",
       "      <th>2</th>\n",
       "      <td>3.9045</td>\n",
       "      <td>1018.4</td>\n",
       "      <td>84.858</td>\n",
       "      <td>3.5828</td>\n",
       "      <td>23.990</td>\n",
       "      <td>1086.5</td>\n",
       "      <td>550.19</td>\n",
       "      <td>135.10</td>\n",
       "      <td>12.042</td>\n",
       "      <td>0.45144</td>\n",
       "      <td>83.776</td>\n",
       "    </tr>\n",
       "    <tr>\n",
       "      <th>3</th>\n",
       "      <td>3.7436</td>\n",
       "      <td>1018.3</td>\n",
       "      <td>85.434</td>\n",
       "      <td>3.5808</td>\n",
       "      <td>23.911</td>\n",
       "      <td>1086.5</td>\n",
       "      <td>550.17</td>\n",
       "      <td>135.03</td>\n",
       "      <td>11.990</td>\n",
       "      <td>0.23107</td>\n",
       "      <td>82.505</td>\n",
       "    </tr>\n",
       "    <tr>\n",
       "      <th>4</th>\n",
       "      <td>3.7516</td>\n",
       "      <td>1017.8</td>\n",
       "      <td>85.182</td>\n",
       "      <td>3.5781</td>\n",
       "      <td>23.917</td>\n",
       "      <td>1085.9</td>\n",
       "      <td>550.00</td>\n",
       "      <td>134.67</td>\n",
       "      <td>11.910</td>\n",
       "      <td>0.26747</td>\n",
       "      <td>82.028</td>\n",
       "    </tr>\n",
       "  </tbody>\n",
       "</table>\n",
       "</div>"
      ],
      "text/plain": [
       "       AT      AP      AH    AFDP    GTEP     TIT     TAT     TEY     CDP  \\\n",
       "0  4.5878  1018.7  83.675  3.5758  23.979  1086.2  549.83  134.67  11.898   \n",
       "1  4.2932  1018.3  84.235  3.5709  23.951  1086.1  550.05  134.67  11.892   \n",
       "2  3.9045  1018.4  84.858  3.5828  23.990  1086.5  550.19  135.10  12.042   \n",
       "3  3.7436  1018.3  85.434  3.5808  23.911  1086.5  550.17  135.03  11.990   \n",
       "4  3.7516  1017.8  85.182  3.5781  23.917  1085.9  550.00  134.67  11.910   \n",
       "\n",
       "        CO     NOX  \n",
       "0  0.32663  81.952  \n",
       "1  0.44784  82.377  \n",
       "2  0.45144  83.776  \n",
       "3  0.23107  82.505  \n",
       "4  0.26747  82.028  "
      ]
     },
     "execution_count": 774,
     "metadata": {},
     "output_type": "execute_result"
    }
   ],
   "source": [
    "df = pd.concat([s1, s2, s3, s4, s5])\n",
    "df.head()"
   ]
  },
  {
   "cell_type": "code",
   "execution_count": 775,
   "id": "4f7ec478-9048-4ae9-bb32-7cba83939cf8",
   "metadata": {},
   "outputs": [
    {
     "data": {
      "text/plain": [
       "(36733, 11)"
      ]
     },
     "execution_count": 775,
     "metadata": {},
     "output_type": "execute_result"
    }
   ],
   "source": [
    "df.shape"
   ]
  },
  {
   "cell_type": "code",
   "execution_count": 776,
   "id": "95f989e7-85a8-462e-a41c-26e75411e3cc",
   "metadata": {},
   "outputs": [],
   "source": [
    "# x will be a NumPy array containing the first 9 columns of the DataFrame df\n",
    "# y will be a NumPy array containing the values from the \"CO\" column of df\n",
    "\n",
    "x = df.iloc[:,:9].to_numpy()\n",
    "y = np.array(df[\"CO\"])"
   ]
  },
  {
   "cell_type": "code",
   "execution_count": 777,
   "id": "94c1d5c3-f736-413e-8ad7-5f282bdcf8fc",
   "metadata": {},
   "outputs": [
    {
     "data": {
      "text/plain": [
       "(36733, 9)"
      ]
     },
     "execution_count": 777,
     "metadata": {},
     "output_type": "execute_result"
    }
   ],
   "source": [
    "x.shape"
   ]
  },
  {
   "cell_type": "code",
   "execution_count": 778,
   "id": "c9a4ce6c-910a-4ef9-94da-0c4f80a8ee88",
   "metadata": {},
   "outputs": [
    {
     "data": {
      "text/plain": [
       "(36733,)"
      ]
     },
     "execution_count": 778,
     "metadata": {},
     "output_type": "execute_result"
    }
   ],
   "source": [
    "y.shape"
   ]
  },
  {
   "cell_type": "code",
   "execution_count": 779,
   "id": "d20e599a-5a74-488b-bbed-52a535ad57e8",
   "metadata": {},
   "outputs": [],
   "source": [
    "# Splitting the dataset\n",
    "x_train, x_test, y_train, y_test = train_test_split(x, y, test_size = 0.5)"
   ]
  },
  {
   "cell_type": "code",
   "execution_count": 780,
   "id": "82a689cf-b4ef-4989-9b3f-f3ed0c358067",
   "metadata": {},
   "outputs": [
    {
     "data": {
      "text/plain": [
       "(36733, 9)"
      ]
     },
     "execution_count": 780,
     "metadata": {},
     "output_type": "execute_result"
    }
   ],
   "source": [
    "x.shape"
   ]
  },
  {
   "cell_type": "code",
   "execution_count": 781,
   "id": "3f4ff3b7-0711-42c1-b797-3eec9b8eacfd",
   "metadata": {},
   "outputs": [
    {
     "data": {
      "text/plain": [
       "(18366, 9)"
      ]
     },
     "execution_count": 781,
     "metadata": {},
     "output_type": "execute_result"
    }
   ],
   "source": [
    "x_train.shape"
   ]
  },
  {
   "cell_type": "code",
   "execution_count": 782,
   "id": "f26b7cd2-fa12-4632-846b-80c036d3fd90",
   "metadata": {},
   "outputs": [
    {
     "data": {
      "text/plain": [
       "(18367, 9)"
      ]
     },
     "execution_count": 782,
     "metadata": {},
     "output_type": "execute_result"
    }
   ],
   "source": [
    "x_test.shape"
   ]
  },
  {
   "cell_type": "code",
   "execution_count": 783,
   "id": "84870bdc-0ecd-437e-9ae4-63325468fe4e",
   "metadata": {},
   "outputs": [
    {
     "data": {
      "text/plain": [
       "(18366,)"
      ]
     },
     "execution_count": 783,
     "metadata": {},
     "output_type": "execute_result"
    }
   ],
   "source": [
    "y_train.shape"
   ]
  },
  {
   "cell_type": "code",
   "execution_count": 784,
   "id": "97463ef2-7bc9-4a7b-a1e2-a8e925de10cc",
   "metadata": {},
   "outputs": [
    {
     "data": {
      "text/plain": [
       "(18367,)"
      ]
     },
     "execution_count": 784,
     "metadata": {},
     "output_type": "execute_result"
    }
   ],
   "source": [
    "y_test.shape"
   ]
  },
  {
   "cell_type": "markdown",
   "id": "a8e40963-5f4e-4213-90c2-478ffcf775cd",
   "metadata": {},
   "source": [
    "### 2. Normalizing all data using standard scaling"
   ]
  },
  {
   "cell_type": "code",
   "execution_count": 785,
   "id": "7f07c804-3aff-418a-8fd4-f9db2f63c586",
   "metadata": {},
   "outputs": [],
   "source": [
    "# Normalizing all the data using Standard Scaling\n",
    "\n",
    "sc = StandardScaler()\n",
    "x_train_scaled = sc.fit_transform(x_train)\n",
    "x_test_scaled = sc.transform(x_test)\n"
   ]
  },
  {
   "cell_type": "code",
   "execution_count": 786,
   "id": "4368cf84-e8d0-4ed9-8574-70eda85555e8",
   "metadata": {},
   "outputs": [],
   "source": [
    "N_train = len(x_train_scaled)"
   ]
  },
  {
   "cell_type": "markdown",
   "id": "583331a6-3b9d-49b0-9fab-f4e67cec1fcc",
   "metadata": {},
   "source": [
    "### 3. Training an SVR, MLP Regressor, and Random Forest Regressor"
   ]
  },
  {
   "cell_type": "markdown",
   "id": "a59955db-f4a7-426d-be96-51388ddf2d99",
   "metadata": {},
   "source": [
    "#### 3.1 Support Vector Regressor"
   ]
  },
  {
   "cell_type": "code",
   "execution_count": 787,
   "id": "5150f7df-e9f7-4992-a189-b1ae86e592f8",
   "metadata": {},
   "outputs": [],
   "source": [
    "# SVR (Support Vector Regressor)\n",
    "from sklearn.svm import SVR\n",
    "from sklearn.metrics import mean_squared_error\n",
    "\n",
    "#Train the SVR model using the default hyperparameters\n",
    "svr = SVR()\n",
    "svr.fit(x_train, y_train)\n",
    "\n",
    "\n",
    "# Make predictions on the training and testing sets\n",
    "y_pred_train = svr.predict(x_train)\n",
    "y_pred_test = svr.predict(x_test)\n",
    "\n",
    "# Calculate training and testing accuracy (R-squared score), using the'score' method of SVR\n",
    "train_accuracy = svr.score(x_train, y_train)\n",
    "test_accuracy = svr.score(x_test, y_test)\n",
    "\n",
    "# Calculate training and testing mean squared error, using the mean_squared_error from 'sklearn.metrics\n",
    "train_mse = mean_squared_error(y_train, y_pred_train)\n",
    "test_mse = mean_squared_error(y_test, y_pred_test)\n"
   ]
  },
  {
   "cell_type": "code",
   "execution_count": 788,
   "id": "60c6b4a0-7fe3-4a69-8b18-8c33a4dec96c",
   "metadata": {},
   "outputs": [
    {
     "name": "stdout",
     "output_type": "stream",
     "text": [
      "Training Accuracy: 0.43\n",
      "Testing Accuracy: 0.43\n",
      "Training Mean Squared Error: 2.85\n",
      "Testing Mean Squared Error: 2.98\n"
     ]
    }
   ],
   "source": [
    "print(f\"Training Accuracy: {train_accuracy:.2f}\")\n",
    "print(f\"Testing Accuracy: {test_accuracy:.2f}\")\n",
    "print(f\"Training Mean Squared Error: {train_mse:.2f}\")\n",
    "print(f\"Testing Mean Squared Error: {test_mse:.2f}\")"
   ]
  },
  {
   "cell_type": "markdown",
   "id": "17fad41f-d2c5-48ba-8a91-27ea5f4fe34f",
   "metadata": {},
   "source": [
    "#### 3.2 MLP Regressor"
   ]
  },
  {
   "cell_type": "code",
   "execution_count": 789,
   "id": "e61a5d04-a0da-42c1-aa37-e3efbea73101",
   "metadata": {},
   "outputs": [],
   "source": [
    "# MLP (Multilayer Perceptron)\n",
    "from sklearn.neural_network import MLPRegressor\n",
    "\n",
    "# Train the MLP Regressor model\n",
    "mlp_regressor = MLPRegressor(random_state=0)\n",
    "mlp_regressor.fit(x_train, y_train)\n",
    "\n",
    "# Make predictions on the training and testing sets\n",
    "y_pred_train = mlp_regressor.predict(x_train)\n",
    "y_pred_test = mlp_regressor.predict(x_test)\n",
    "\n",
    "# Calculate training and testing accuracy (R-squared score)\n",
    "train_accuracy = mlp_regressor.score(x_train, y_train)\n",
    "test_accuracy = mlp_regressor.score(x_test, y_test)\n",
    "\n",
    "# Calculate training and testing mean squared error\n",
    "train_mse = mean_squared_error(y_train, y_pred_train)\n",
    "test_mse = mean_squared_error(y_test, y_pred_test)"
   ]
  },
  {
   "cell_type": "code",
   "execution_count": 790,
   "id": "03b4d290-e21b-448a-94a4-2ed64e2278d7",
   "metadata": {},
   "outputs": [
    {
     "name": "stdout",
     "output_type": "stream",
     "text": [
      "Training Accuracy: 0.11\n",
      "Testing Accuracy: 0.11\n",
      "Training Mean Squared Error: 4.49\n",
      "Testing Mean Squared Error: 4.62\n"
     ]
    }
   ],
   "source": [
    "print(f\"Training Accuracy: {train_accuracy:.2f}\")\n",
    "print(f\"Testing Accuracy: {test_accuracy:.2f}\")\n",
    "print(f\"Training Mean Squared Error: {train_mse:.2f}\")\n",
    "print(f\"Testing Mean Squared Error: {test_mse:.2f}\")"
   ]
  },
  {
   "cell_type": "markdown",
   "id": "54bd6eca-32ec-47cf-9abc-9cc71940ba9e",
   "metadata": {},
   "source": [
    "#### 3.3 Random Forest Regressor"
   ]
  },
  {
   "cell_type": "code",
   "execution_count": 791,
   "id": "a06489be-4f36-4dad-8a44-d45775773b4d",
   "metadata": {},
   "outputs": [],
   "source": [
    "# Random Forest Regressor\n",
    "from sklearn.ensemble import RandomForestRegressor\n",
    "\n",
    "# Train the Random Forest Regressor model\n",
    "rf_regressor = RandomForestRegressor(random_state=0)\n",
    "rf_regressor.fit(x_train, y_train)\n",
    "\n",
    "# Make predictions\n",
    "y_pred_train = rf_regressor.predict(x_train)\n",
    "y_pred_test = rf_regressor.predict(x_test)\n",
    "\n",
    "# Calculate training and testing accuracy (R-squared score)\n",
    "train_accuracy = rf_regressor.score(x_train, y_train)\n",
    "test_accuracy = rf_regressor.score(x_test, y_test)\n",
    "\n",
    "# Calculate training and testing mean squared error\n",
    "train_mse = mean_squared_error(y_train, y_pred_train)\n",
    "test_mse = mean_squared_error(y_test, y_pred_test)"
   ]
  },
  {
   "cell_type": "code",
   "execution_count": 792,
   "id": "5eef302b-0649-425b-9eaa-49e5a9d5e938",
   "metadata": {},
   "outputs": [
    {
     "name": "stdout",
     "output_type": "stream",
     "text": [
      "Training Accuracy: 0.96\n",
      "Testing Accuracy: 0.75\n",
      "Training Mean Squared Error: 0.18\n",
      "Testing Mean Squared Error: 1.29\n"
     ]
    }
   ],
   "source": [
    "print(f\"Training Accuracy: {train_accuracy:.2f}\")\n",
    "print(f\"Testing Accuracy: {test_accuracy:.2f}\")\n",
    "print(f\"Training Mean Squared Error: {train_mse:.2f}\")\n",
    "print(f\"Testing Mean Squared Error: {test_mse:.2f}\")"
   ]
  },
  {
   "cell_type": "markdown",
   "id": "a65bc1ef-60a5-4398-ab91-4fea9c078ec9",
   "metadata": {},
   "source": [
    "### 4. Hyperparameter tuning for the best model from item 3"
   ]
  },
  {
   "cell_type": "raw",
   "id": "61dadf56-f076-4c7a-9eda-c81202dbdc25",
   "metadata": {},
   "source": [
    "        In the code below, hyperparameters for Random Forest Regressor (i.e. number of estimators, max depth, min samples split, min samples leaf) within certain ranges and train the model with these hyperparameters are randomly selected.\n",
    "        Then, model's performance is evaluated using the testing set and keep track of the best model and its parameters. After 5 trials, the best model is printed with its parameters, and the best testing accuracy achieved."
   ]
  },
  {
   "cell_type": "code",
   "execution_count": 793,
   "id": "aa149389-b0da-40e6-a851-61ab8c21bf06",
   "metadata": {},
   "outputs": [
    {
     "name": "stdout",
     "output_type": "stream",
     "text": [
      "Best Model:\n",
      "RandomForestRegressor(max_depth=15, min_samples_leaf=4, min_samples_split=9,\n",
      "                      n_estimators=90, random_state=0)\n",
      "Best Parameters:\n",
      "{'n_estimators': 90, 'max_depth': 15, 'min_samples_split': 9, 'min_samples_leaf': 4}\n",
      "Best Testing Accuracy: 0.74\n"
     ]
    }
   ],
   "source": [
    "# Perform hyperparameter tuning\n",
    "best_model = None\n",
    "best_params = None\n",
    "best_accuracy = float('-inf')\n",
    "\n",
    "for _ in range(5):\n",
    "    # Choose hyperparameters to try\n",
    "    n_estimators = np.random.randint(50, 200)\n",
    "    max_depth = np.random.randint(5, 20)\n",
    "    min_samples_split = np.random.randint(2, 10)\n",
    "    min_samples_leaf = np.random.randint(1, 5)\n",
    "    \n",
    "    # Train the model with the selected hyperparameters\n",
    "    rf_regressor = RandomForestRegressor(n_estimators=n_estimators,\n",
    "                                         max_depth=max_depth,\n",
    "                                         min_samples_split=min_samples_split,\n",
    "                                         min_samples_leaf=min_samples_leaf,\n",
    "                                         random_state=0)\n",
    "    rf_regressor.fit(x_train, y_train)\n",
    "    \n",
    "    # Evaluate the model\n",
    "    accuracy = rf_regressor.score(x_test, y_test)\n",
    "    \n",
    "    # Keep track of the best model and parameters\n",
    "    if accuracy > best_accuracy:\n",
    "        best_accuracy = accuracy\n",
    "        best_model = rf_regressor\n",
    "        best_params = {\n",
    "            'n_estimators': n_estimators,\n",
    "            'max_depth': max_depth,\n",
    "            'min_samples_split': min_samples_split,\n",
    "            'min_samples_leaf': min_samples_leaf\n",
    "        }\n",
    "\n",
    "# Print the best model and its parameters\n",
    "print(\"Best Model:\")\n",
    "print(best_model)\n",
    "print(\"Best Parameters:\")\n",
    "print(best_params)\n",
    "print(f\"Best Testing Accuracy: {best_accuracy:.2f}\")"
   ]
  },
  {
   "cell_type": "markdown",
   "id": "3281181c-3f3d-45a8-917f-2bdec6770f70",
   "metadata": {},
   "source": [
    "## Glass Identification in Forensics"
   ]
  },
  {
   "cell_type": "markdown",
   "id": "30acda89-bb1b-4aef-a4fe-508fe6419518",
   "metadata": {},
   "source": [
    "### 1. Transfering Data, loading in Python"
   ]
  },
  {
   "cell_type": "code",
   "execution_count": 794,
   "id": "bc879ec4-d117-4646-b358-4ca8e84aa10a",
   "metadata": {},
   "outputs": [],
   "source": [
    "df = pd.read_csv('glass.csv')"
   ]
  },
  {
   "cell_type": "code",
   "execution_count": 795,
   "id": "81e7f6c1-40e5-45fc-9f12-bea163481b56",
   "metadata": {},
   "outputs": [
    {
     "data": {
      "text/html": [
       "<div>\n",
       "<style scoped>\n",
       "    .dataframe tbody tr th:only-of-type {\n",
       "        vertical-align: middle;\n",
       "    }\n",
       "\n",
       "    .dataframe tbody tr th {\n",
       "        vertical-align: top;\n",
       "    }\n",
       "\n",
       "    .dataframe thead th {\n",
       "        text-align: right;\n",
       "    }\n",
       "</style>\n",
       "<table border=\"1\" class=\"dataframe\">\n",
       "  <thead>\n",
       "    <tr style=\"text-align: right;\">\n",
       "      <th></th>\n",
       "      <th>ID</th>\n",
       "      <th>RI</th>\n",
       "      <th>Na</th>\n",
       "      <th>Mg</th>\n",
       "      <th>Al</th>\n",
       "      <th>Si</th>\n",
       "      <th>K</th>\n",
       "      <th>Ca</th>\n",
       "      <th>Ba</th>\n",
       "      <th>Fe</th>\n",
       "      <th>Type</th>\n",
       "    </tr>\n",
       "  </thead>\n",
       "  <tbody>\n",
       "    <tr>\n",
       "      <th>0</th>\n",
       "      <td>1</td>\n",
       "      <td>1.52101</td>\n",
       "      <td>13.64</td>\n",
       "      <td>4.49</td>\n",
       "      <td>1.10</td>\n",
       "      <td>71.78</td>\n",
       "      <td>0.06</td>\n",
       "      <td>8.75</td>\n",
       "      <td>0.0</td>\n",
       "      <td>0.0</td>\n",
       "      <td>1</td>\n",
       "    </tr>\n",
       "    <tr>\n",
       "      <th>1</th>\n",
       "      <td>2</td>\n",
       "      <td>1.51761</td>\n",
       "      <td>13.89</td>\n",
       "      <td>3.60</td>\n",
       "      <td>1.36</td>\n",
       "      <td>72.73</td>\n",
       "      <td>0.48</td>\n",
       "      <td>7.83</td>\n",
       "      <td>0.0</td>\n",
       "      <td>0.0</td>\n",
       "      <td>1</td>\n",
       "    </tr>\n",
       "    <tr>\n",
       "      <th>2</th>\n",
       "      <td>3</td>\n",
       "      <td>1.51618</td>\n",
       "      <td>13.53</td>\n",
       "      <td>3.55</td>\n",
       "      <td>1.54</td>\n",
       "      <td>72.99</td>\n",
       "      <td>0.39</td>\n",
       "      <td>7.78</td>\n",
       "      <td>0.0</td>\n",
       "      <td>0.0</td>\n",
       "      <td>1</td>\n",
       "    </tr>\n",
       "    <tr>\n",
       "      <th>3</th>\n",
       "      <td>4</td>\n",
       "      <td>1.51766</td>\n",
       "      <td>13.21</td>\n",
       "      <td>3.69</td>\n",
       "      <td>1.29</td>\n",
       "      <td>72.61</td>\n",
       "      <td>0.57</td>\n",
       "      <td>8.22</td>\n",
       "      <td>0.0</td>\n",
       "      <td>0.0</td>\n",
       "      <td>1</td>\n",
       "    </tr>\n",
       "    <tr>\n",
       "      <th>4</th>\n",
       "      <td>5</td>\n",
       "      <td>1.51742</td>\n",
       "      <td>13.27</td>\n",
       "      <td>3.62</td>\n",
       "      <td>1.24</td>\n",
       "      <td>73.08</td>\n",
       "      <td>0.55</td>\n",
       "      <td>8.07</td>\n",
       "      <td>0.0</td>\n",
       "      <td>0.0</td>\n",
       "      <td>1</td>\n",
       "    </tr>\n",
       "  </tbody>\n",
       "</table>\n",
       "</div>"
      ],
      "text/plain": [
       "   ID       RI     Na    Mg    Al     Si     K    Ca   Ba   Fe  Type\n",
       "0   1  1.52101  13.64  4.49  1.10  71.78  0.06  8.75  0.0  0.0     1\n",
       "1   2  1.51761  13.89  3.60  1.36  72.73  0.48  7.83  0.0  0.0     1\n",
       "2   3  1.51618  13.53  3.55  1.54  72.99  0.39  7.78  0.0  0.0     1\n",
       "3   4  1.51766  13.21  3.69  1.29  72.61  0.57  8.22  0.0  0.0     1\n",
       "4   5  1.51742  13.27  3.62  1.24  73.08  0.55  8.07  0.0  0.0     1"
      ]
     },
     "execution_count": 795,
     "metadata": {},
     "output_type": "execute_result"
    }
   ],
   "source": [
    "df.head()"
   ]
  },
  {
   "cell_type": "code",
   "execution_count": 796,
   "id": "56c6be61-d89d-45a3-8f9b-d6ebfa89beb5",
   "metadata": {},
   "outputs": [
    {
     "data": {
      "text/html": [
       "<div>\n",
       "<style scoped>\n",
       "    .dataframe tbody tr th:only-of-type {\n",
       "        vertical-align: middle;\n",
       "    }\n",
       "\n",
       "    .dataframe tbody tr th {\n",
       "        vertical-align: top;\n",
       "    }\n",
       "\n",
       "    .dataframe thead th {\n",
       "        text-align: right;\n",
       "    }\n",
       "</style>\n",
       "<table border=\"1\" class=\"dataframe\">\n",
       "  <thead>\n",
       "    <tr style=\"text-align: right;\">\n",
       "      <th></th>\n",
       "      <th>ID</th>\n",
       "      <th>RI</th>\n",
       "      <th>Na</th>\n",
       "      <th>Mg</th>\n",
       "      <th>Al</th>\n",
       "      <th>Si</th>\n",
       "      <th>K</th>\n",
       "      <th>Ca</th>\n",
       "      <th>Ba</th>\n",
       "      <th>Fe</th>\n",
       "      <th>Type</th>\n",
       "    </tr>\n",
       "  </thead>\n",
       "  <tbody>\n",
       "    <tr>\n",
       "      <th>209</th>\n",
       "      <td>210</td>\n",
       "      <td>1.51623</td>\n",
       "      <td>14.14</td>\n",
       "      <td>0.0</td>\n",
       "      <td>2.88</td>\n",
       "      <td>72.61</td>\n",
       "      <td>0.08</td>\n",
       "      <td>9.18</td>\n",
       "      <td>1.06</td>\n",
       "      <td>0.0</td>\n",
       "      <td>7</td>\n",
       "    </tr>\n",
       "    <tr>\n",
       "      <th>210</th>\n",
       "      <td>211</td>\n",
       "      <td>1.51685</td>\n",
       "      <td>14.92</td>\n",
       "      <td>0.0</td>\n",
       "      <td>1.99</td>\n",
       "      <td>73.06</td>\n",
       "      <td>0.00</td>\n",
       "      <td>8.40</td>\n",
       "      <td>1.59</td>\n",
       "      <td>0.0</td>\n",
       "      <td>7</td>\n",
       "    </tr>\n",
       "    <tr>\n",
       "      <th>211</th>\n",
       "      <td>212</td>\n",
       "      <td>1.52065</td>\n",
       "      <td>14.36</td>\n",
       "      <td>0.0</td>\n",
       "      <td>2.02</td>\n",
       "      <td>73.42</td>\n",
       "      <td>0.00</td>\n",
       "      <td>8.44</td>\n",
       "      <td>1.64</td>\n",
       "      <td>0.0</td>\n",
       "      <td>7</td>\n",
       "    </tr>\n",
       "    <tr>\n",
       "      <th>212</th>\n",
       "      <td>213</td>\n",
       "      <td>1.51651</td>\n",
       "      <td>14.38</td>\n",
       "      <td>0.0</td>\n",
       "      <td>1.94</td>\n",
       "      <td>73.61</td>\n",
       "      <td>0.00</td>\n",
       "      <td>8.48</td>\n",
       "      <td>1.57</td>\n",
       "      <td>0.0</td>\n",
       "      <td>7</td>\n",
       "    </tr>\n",
       "    <tr>\n",
       "      <th>213</th>\n",
       "      <td>214</td>\n",
       "      <td>1.51711</td>\n",
       "      <td>14.23</td>\n",
       "      <td>0.0</td>\n",
       "      <td>2.08</td>\n",
       "      <td>73.36</td>\n",
       "      <td>0.00</td>\n",
       "      <td>8.62</td>\n",
       "      <td>1.67</td>\n",
       "      <td>0.0</td>\n",
       "      <td>7</td>\n",
       "    </tr>\n",
       "  </tbody>\n",
       "</table>\n",
       "</div>"
      ],
      "text/plain": [
       "      ID       RI     Na   Mg    Al     Si     K    Ca    Ba   Fe  Type\n",
       "209  210  1.51623  14.14  0.0  2.88  72.61  0.08  9.18  1.06  0.0     7\n",
       "210  211  1.51685  14.92  0.0  1.99  73.06  0.00  8.40  1.59  0.0     7\n",
       "211  212  1.52065  14.36  0.0  2.02  73.42  0.00  8.44  1.64  0.0     7\n",
       "212  213  1.51651  14.38  0.0  1.94  73.61  0.00  8.48  1.57  0.0     7\n",
       "213  214  1.51711  14.23  0.0  2.08  73.36  0.00  8.62  1.67  0.0     7"
      ]
     },
     "execution_count": 796,
     "metadata": {},
     "output_type": "execute_result"
    }
   ],
   "source": [
    "df.tail()"
   ]
  },
  {
   "cell_type": "code",
   "execution_count": 797,
   "id": "4ae76cf6-5265-4192-a399-59cc7ac3a52f",
   "metadata": {},
   "outputs": [
    {
     "data": {
      "text/plain": [
       "(214, 11)"
      ]
     },
     "execution_count": 797,
     "metadata": {},
     "output_type": "execute_result"
    }
   ],
   "source": [
    "df.shape"
   ]
  },
  {
   "cell_type": "markdown",
   "id": "fc5cca7c-f436-4fde-a5c1-3e37c1c39082",
   "metadata": {},
   "source": [
    " ### 2. Splitting the data, and normalizing using standard scaling"
   ]
  },
  {
   "cell_type": "code",
   "execution_count": 798,
   "id": "483493cc-b2bb-4976-97c1-6c0be09d78b3",
   "metadata": {},
   "outputs": [],
   "source": [
    "# x will be a NumPy array containing the first 9 columns of the DataFrame df\n",
    "# y will be a NumPy array containing the values from the \"Type\" column of df\n",
    "\n",
    "x = df.iloc[:,:9].to_numpy()\n",
    "y = np.array(df[\"Type\"])\n",
    "\n",
    "# Note: labelencoder is not used, because the 'Type' column is already 'int' or numerical form and not categorical variables."
   ]
  },
  {
   "cell_type": "code",
   "execution_count": 799,
   "id": "d62a461d-4eb1-46b6-9717-6a4af609f7fe",
   "metadata": {},
   "outputs": [
    {
     "data": {
      "text/plain": [
       "(214,)"
      ]
     },
     "execution_count": 799,
     "metadata": {},
     "output_type": "execute_result"
    }
   ],
   "source": [
    "y.shape"
   ]
  },
  {
   "cell_type": "code",
   "execution_count": 800,
   "id": "6aaad5f7-57c8-43af-bffb-1506d175d98f",
   "metadata": {},
   "outputs": [
    {
     "data": {
      "text/plain": [
       "(214, 9)"
      ]
     },
     "execution_count": 800,
     "metadata": {},
     "output_type": "execute_result"
    }
   ],
   "source": [
    "x.shape"
   ]
  },
  {
   "cell_type": "code",
   "execution_count": 801,
   "id": "8e91af86-c328-41a4-a9e0-ea9d5a7d8d97",
   "metadata": {},
   "outputs": [],
   "source": [
    "# Splitting the dataset into 70% training and 30% testing with stratification\n",
    "x_train, x_test, y_train, y_test = train_test_split(x, y, test_size = 0.3, stratify=y, random_state=0)"
   ]
  },
  {
   "cell_type": "code",
   "execution_count": 802,
   "id": "38ff603c-d8b2-4f20-81d4-908c872995ea",
   "metadata": {},
   "outputs": [
    {
     "data": {
      "text/plain": [
       "(149, 9)"
      ]
     },
     "execution_count": 802,
     "metadata": {},
     "output_type": "execute_result"
    }
   ],
   "source": [
    "x_train.shape"
   ]
  },
  {
   "cell_type": "code",
   "execution_count": 803,
   "id": "0d0fa81b-0d9c-421c-bbf7-dc8e37398aef",
   "metadata": {},
   "outputs": [
    {
     "data": {
      "text/plain": [
       "(65, 9)"
      ]
     },
     "execution_count": 803,
     "metadata": {},
     "output_type": "execute_result"
    }
   ],
   "source": [
    "x_test.shape"
   ]
  },
  {
   "cell_type": "code",
   "execution_count": 804,
   "id": "3c5c5016-f1bf-4738-a65a-de779e1da253",
   "metadata": {},
   "outputs": [],
   "source": [
    "sc = StandardScaler()\n",
    "x_train_scaled = sc.fit_transform(x_train)\n",
    "x_test_scaled = sc.transform(x_test)"
   ]
  },
  {
   "cell_type": "markdown",
   "id": "237d7d5d-ae91-4d96-8303-986d0e9e48be",
   "metadata": {},
   "source": [
    "### 3. Training Support Vector Classifier, Random Forest Classifier, and MLP Classifier"
   ]
  },
  {
   "cell_type": "markdown",
   "id": "4bf20e24-dd9f-42b1-980e-d80c6a77894d",
   "metadata": {},
   "source": [
    "#### Support Vector Classifier (SCV)"
   ]
  },
  {
   "cell_type": "code",
   "execution_count": 805,
   "id": "d1f2c828-3cd5-45c5-9925-4a54b5cfba19",
   "metadata": {},
   "outputs": [],
   "source": [
    "#Support Vector Classifier (SVC)\n",
    "from sklearn.svm import SVC\n",
    "from sklearn.metrics import accuracy_score, confusion_matrix\n",
    "import numpy as np\n",
    "\n",
    "# Train the SVC\n",
    "svc = SVC()\n",
    "svc.fit(x_train, y_train)\n",
    "\n",
    "# Predict on training and test data\n",
    "y_train_pred = svc.predict(x_train)\n",
    "y_test_pred = svc.predict(x_test)\n",
    "\n",
    "# Calculate accuracy\n",
    "train_accuracy = accuracy_score(y_train, y_train_pred)\n",
    "test_accuracy = accuracy_score(y_test, y_test_pred)\n",
    "\n",
    "# Calculate confusion matrix\n",
    "train_conf_matrix = confusion_matrix(y_train, y_train_pred)\n",
    "test_conf_matrix = confusion_matrix(y_test, y_test_pred)"
   ]
  },
  {
   "cell_type": "code",
   "execution_count": 806,
   "id": "43b690ee-5c4c-4251-a0a6-5599cd3b4b32",
   "metadata": {},
   "outputs": [
    {
     "name": "stdout",
     "output_type": "stream",
     "text": [
      "Training Accuracy: 0.8053691275167785\n",
      "Test Accuracy: 0.8\n",
      "\n",
      "Training Confusion Matrix (size 6):\n",
      "[[49  0  0  0  0  0]\n",
      " [ 2 51  0  0  0  0]\n",
      " [ 0 12  0  0  0  0]\n",
      " [ 0  2  7  0  0  0]\n",
      " [ 0  0  0  0  0  6]\n",
      " [ 0  0  0  0  0 20]]\n",
      "\n",
      "Test Confusion Matrix (size 6):\n",
      "[[21  0  0  0  0  0]\n",
      " [ 1 22  0  0  0  0]\n",
      " [ 0  5  0  0  0  0]\n",
      " [ 0  2  2  0  0  0]\n",
      " [ 0  0  0  0  0  3]\n",
      " [ 0  0  0  0  0  9]]\n"
     ]
    }
   ],
   "source": [
    "# Printing accuracy and confusion matrix\n",
    "\n",
    "print(\"Training Accuracy:\", train_accuracy)\n",
    "print(\"Test Accuracy:\", test_accuracy)\n",
    "\n",
    "print(\"\\nTraining Confusion Matrix (size 6):\")\n",
    "print(train_conf_matrix)\n",
    "\n",
    "print(\"\\nTest Confusion Matrix (size 6):\")\n",
    "print(test_conf_matrix)"
   ]
  },
  {
   "cell_type": "markdown",
   "id": "37482c00-6f39-4e29-89ad-f1d3fad1a90a",
   "metadata": {},
   "source": [
    "#### Random Forest Classifier"
   ]
  },
  {
   "cell_type": "code",
   "execution_count": 807,
   "id": "bb751948-36ef-4cf9-857e-f4ac26848b75",
   "metadata": {},
   "outputs": [],
   "source": [
    "# Random Forest Classifier\n",
    "from sklearn.model_selection import train_test_split\n",
    "from sklearn.ensemble import RandomForestClassifier\n",
    "from sklearn.metrics import accuracy_score, confusion_matrix\n",
    "import numpy as np\n",
    "\n",
    "# Create a Random Forest Classifier\n",
    "clf = RandomForestClassifier()\n",
    "\n",
    "# Train the model\n",
    "clf.fit(x_train, y_train)\n",
    "\n",
    "# Predict on the training data\n",
    "y_train_pred = clf.predict(x_train)\n",
    "\n",
    "# Predict on the test data\n",
    "y_test_pred = clf.predict(x_test)\n",
    "\n",
    "# Calculate the accuracy\n",
    "train_accuracy = accuracy_score(y_train, y_train_pred)\n",
    "test_accuracy = accuracy_score(y_test, y_test_pred)\n"
   ]
  },
  {
   "cell_type": "code",
   "execution_count": 808,
   "id": "8c98ed05-2401-444a-aab4-a6f257786a6f",
   "metadata": {},
   "outputs": [
    {
     "name": "stdout",
     "output_type": "stream",
     "text": [
      "Training Accuracy: 1.0\n",
      "Test Accuracy: 0.9692307692307692\n",
      "Confusion Matrix (Training Data):\n",
      " [[ 0  0  0  0  0  0]\n",
      " [ 0 49  0  0  0  0]\n",
      " [ 0  0 53  0  0  0]\n",
      " [ 0  0  0 12  0  0]\n",
      " [ 0  0  0  0  0  0]\n",
      " [ 0  0  0  0  0  9]]\n",
      "Confusion Matrix (Test Data):\n",
      " [[ 0  0  0  0  0  0]\n",
      " [ 0 21  0  0  0  0]\n",
      " [ 0  1 22  0  0  0]\n",
      " [ 0  0  0  5  0  0]\n",
      " [ 0  0  0  0  0  0]\n",
      " [ 0  0  0  0  0  3]]\n"
     ]
    }
   ],
   "source": [
    "# Print the classification accuracy\n",
    "print(\"Training Accuracy:\", train_accuracy)\n",
    "print(\"Test Accuracy:\", test_accuracy)\n",
    "\n",
    "# Calculate and print the confusion matrix for training data\n",
    "conf_matrix_train = confusion_matrix(y_train, y_train_pred, labels=np.arange(6))\n",
    "print(\"Confusion Matrix (Training Data):\\n\", conf_matrix_train)\n",
    "\n",
    "# Calculate and print the confusion matrix for test data\n",
    "conf_matrix_test = confusion_matrix(y_test, y_test_pred, labels=np.arange(6))\n",
    "print(\"Confusion Matrix (Test Data):\\n\", conf_matrix_test)"
   ]
  },
  {
   "cell_type": "markdown",
   "id": "48e7dccd-0c93-4503-a626-79a90e44b8ac",
   "metadata": {},
   "source": [
    "#### MLP Classifier"
   ]
  },
  {
   "cell_type": "code",
   "execution_count": 809,
   "id": "cff4de65-dd5d-47d7-b469-d616d757258e",
   "metadata": {},
   "outputs": [
    {
     "name": "stderr",
     "output_type": "stream",
     "text": [
      "C:\\Users\\HomePC\\Desktop\\ChE297_MP1\\env\\Lib\\site-packages\\sklearn\\neural_network\\_multilayer_perceptron.py:691: ConvergenceWarning: Stochastic Optimizer: Maximum iterations (200) reached and the optimization hasn't converged yet.\n",
      "  warnings.warn(\n"
     ]
    }
   ],
   "source": [
    "# MLP Classifier with default settings\n",
    "from sklearn.neural_network import MLPClassifier\n",
    "from sklearn.metrics import accuracy_score, confusion_matrix\n",
    "\n",
    "# Create an MLP Classifier with default settings\n",
    "clf = MLPClassifier()\n",
    "\n",
    "# Train the model\n",
    "clf.fit(x_train, y_train)\n",
    "\n",
    "# Predict on the training data\n",
    "y_train_pred = clf.predict(x_train)\n",
    "\n",
    "# Predict on the test data\n",
    "y_test_pred = clf.predict(x_test)\n",
    "\n",
    "# Calculate the accuracy\n",
    "train_accuracy = accuracy_score(y_train, y_train_pred)\n",
    "test_accuracy = accuracy_score(y_test, y_test_pred)"
   ]
  },
  {
   "cell_type": "markdown",
   "id": "65119fa9-7f30-48bb-a62d-a2e221cd63c7",
   "metadata": {},
   "source": [
    "##### The warning above indicates that the MLP Classifier did not converge within the maximum number of iterations (200 by dafault). This can happen if the model is complex. We can try again, and this time will increase the 'max_iter' parameter to allow the model to converge."
   ]
  },
  {
   "cell_type": "code",
   "execution_count": 810,
   "id": "835d24e1-243a-4470-b359-345b83705f80",
   "metadata": {},
   "outputs": [],
   "source": [
    "# Create an MLP Classifier with a higher max_iter value\n",
    "clf = MLPClassifier(max_iter=1000)\n",
    "\n",
    "# Train the model\n",
    "clf.fit(X_train, y_train)\n",
    "\n",
    "# Predict on the training data\n",
    "y_train_pred = clf.predict(x_train)\n",
    "\n",
    "# Predict on the test data\n",
    "y_test_pred = clf.predict(x_test)\n",
    "\n",
    "# Calculate the accuracy\n",
    "train_accuracy = accuracy_score(y_train, y_train_pred)\n",
    "test_accuracy = accuracy_score(y_test, y_test_pred)"
   ]
  },
  {
   "cell_type": "code",
   "execution_count": 811,
   "id": "044cc2f6-5176-4143-86b9-02b735ad75ea",
   "metadata": {},
   "outputs": [
    {
     "name": "stdout",
     "output_type": "stream",
     "text": [
      "Training Accuracy: 1.0\n",
      "Test Accuracy: 0.9692307692307692\n",
      "Confusion Matrix (Training Data):\n",
      " [[ 0  0  0  0  0  0]\n",
      " [ 0 49  0  0  0  0]\n",
      " [ 0  0 53  0  0  0]\n",
      " [ 0  0  0 12  0  0]\n",
      " [ 0  0  0  0  0  0]\n",
      " [ 0  0  0  0  0  9]]\n",
      "Confusion Matrix (Test Data):\n",
      " [[ 0  0  0  0  0  0]\n",
      " [ 0 21  0  0  0  0]\n",
      " [ 0  0 23  0  0  0]\n",
      " [ 0  0  0  5  0  0]\n",
      " [ 0  0  0  0  0  0]\n",
      " [ 0  0  0  1  0  3]]\n"
     ]
    }
   ],
   "source": [
    "# Print the classification accuracy\n",
    "print(\"Training Accuracy:\", train_accuracy)\n",
    "print(\"Test Accuracy:\", test_accuracy)\n",
    "\n",
    "# Calculate and print the confusion matrix for training data\n",
    "conf_matrix_train = confusion_matrix(y_train, y_train_pred, labels=np.arange(6))\n",
    "print(\"Confusion Matrix (Training Data):\\n\", conf_matrix_train)\n",
    "\n",
    "# Calculate and print the confusion matrix for test data\n",
    "conf_matrix_test = confusion_matrix(y_test, y_test_pred, labels=np.arange(6))\n",
    "print(\"Confusion Matrix (Test Data):\\n\", conf_matrix_test)"
   ]
  },
  {
   "cell_type": "markdown",
   "id": "3e8e24c9-2b54-4263-88e6-f00e8644121f",
   "metadata": {},
   "source": [
    "### 4. Random Forest Classifier model improvement by tuning hyper-parameter"
   ]
  },
  {
   "cell_type": "code",
   "execution_count": 812,
   "id": "0c24e600-a5bf-4ac3-9b61-38a153edc791",
   "metadata": {},
   "outputs": [
    {
     "name": "stdout",
     "output_type": "stream",
     "text": [
      "Fitting 3 folds for each of 108 candidates, totalling 324 fits\n",
      "Fitting 3 folds for each of 108 candidates, totalling 324 fits\n",
      "Fitting 3 folds for each of 108 candidates, totalling 324 fits\n",
      "Improved Random Forest Classifier Accuracy: 0.9692307692307692\n"
     ]
    }
   ],
   "source": [
    "from sklearn.model_selection import GridSearchCV\n",
    "from sklearn.ensemble import RandomForestClassifier\n",
    "from sklearn.metrics import accuracy_score\n",
    "import matplotlib.pyplot as plt\n",
    "import numpy as np\n",
    "\n",
    "# Note: The code below performs 3 trials of hyper-parameter tuning using 'GridSearchCV' \n",
    "# and select the best set of hyperparameters based on the hioghest cross-validated score.\n",
    "\n",
    "best_score = 0\n",
    "best_params = None\n",
    "\n",
    "for _ in range(3):  # 3 trials\n",
    "    # Define the parameter grid to search\n",
    "    param_grid = {\n",
    "        'n_estimators': [50, 100, 150],\n",
    "        'max_depth': [None, 5, 10, 15],\n",
    "        'min_samples_split': [2, 5, 10],\n",
    "        'min_samples_leaf': [1, 2, 4]\n",
    "    }\n",
    "\n",
    "    # Create a Random Forest Classifier\n",
    "    rf = RandomForestClassifier(random_state=42)\n",
    "\n",
    "    # Perform Grid Search\n",
    "    grid_search = GridSearchCV(rf, param_grid, cv=3, n_jobs=-1, verbose=2)\n",
    "    grid_search.fit(x_train, y_train)\n",
    "\n",
    "    # Check if this trial produced a better score\n",
    "    if grid_search.best_score_ > best_score:\n",
    "        best_score = grid_search.best_score_\n",
    "        best_params = grid_search.best_params_\n",
    "\n",
    "# Train a Random Forest Classifier with the best parameters\n",
    "best_rf = RandomForestClassifier(**best_params, random_state=42)\n",
    "best_rf.fit(x_train, y_train)\n",
    "\n",
    "# Predict on the test data\n",
    "y_pred = best_rf.predict(x_test)\n",
    "\n",
    "# Calculate the accuracy\n",
    "accuracy = accuracy_score(y_test, y_pred)\n",
    "print(\"Improved Random Forest Classifier Accuracy:\", accuracy)"
   ]
  },
  {
   "cell_type": "markdown",
   "id": "308e067b-10b2-4515-9767-a29a48fa7321",
   "metadata": {},
   "source": [
    "#### Plot of the feature importance"
   ]
  },
  {
   "cell_type": "code",
   "execution_count": 813,
   "id": "3eb87446-6f4b-40eb-a7a9-08819066b4e9",
   "metadata": {},
   "outputs": [
    {
     "data": {
      "image/png": "[encoded data removed]",
      "text/plain": [
       "<Figure size 1000x600 with 1 Axes>"
      ]
     },
     "metadata": {},
     "output_type": "display_data"
    }
   ],
   "source": [
    "# Plot of the feature importance\n",
    "plt.figure(figsize=(10, 6))\n",
    "plt.bar(range(len(feature_importance)), feature_importance[sorted_idx])\n",
    "plt.xlabel(\"Feature Index\")\n",
    "plt.ylabel(\"Importance\")\n",
    "plt.title(\"Feature Importance\")\n",
    "plt.xticks(range(len(feature_importance)), sorted_idx)\n",
    "plt.show()"
   ]
  }
 ],
 "metadata": {
  "kernelspec": {
   "display_name": "Python 3 (ipykernel)",
   "language": "python",
   "name": "python3"
  },
  "language_info": {
   "codemirror_mode": {
    "name": "ipython",
    "version": 3
   },
   "file_extension": ".py",
   "mimetype": "text/x-python",
   "name": "python",
   "nbconvert_exporter": "python",
   "pygments_lexer": "ipython3",
   "version": "3.12.2"
  }
 },
 "nbformat": 4,
 "nbformat_minor": 5
}
